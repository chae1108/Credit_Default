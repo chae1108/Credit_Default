{
 "cells": [
  {
   "cell_type": "markdown",
   "metadata": {},
   "source": [
    "# Credit Card Default Prediction\n",
    "\n",
    "### Description\n",
    "The goal of this project is to predict the defaults of credit card owners. I used logistic regression to build the model.  In addition, I used gridsearch to optimize the parameters of the model and used lasso to penalize certain coefficients.\n",
    "\n",
    "Note that there are descrepancies between and actual data. Depending on the data, questionable data were either removed or replaced by the median value\n",
    "\n",
    "### Data Cleaning and EDA"
   ]
  },
  {
   "cell_type": "code",
   "execution_count": 1,
   "metadata": {
    "collapsed": false
   },
   "outputs": [],
   "source": [
    "import pandas as pd\n",
    "import numpy as np\n",
    "import matplotlib.pyplot as plt\n",
    "%matplotlib inline\n",
    "import seaborn as sns\n",
    "from sklearn.preprocessing import StandardScaler\n",
    "from sklearn.cross_validation import train_test_split\n",
    "from sklearn.linear_model import LogisticRegression\n",
    "from sklearn.feature_selection import RFECV\n",
    "from sklearn import grid_search\n",
    "from sklearn.metrics import confusion_matrix, classification_report, roc_curve, auc"
   ]
  },
  {
   "cell_type": "code",
   "execution_count": 2,
   "metadata": {
    "collapsed": true
   },
   "outputs": [],
   "source": [
    "# load dataset\n",
    "df=pd.read_csv('dataset/CreditDefault.csv')"
   ]
  },
  {
   "cell_type": "code",
   "execution_count": 3,
   "metadata": {
    "collapsed": false
   },
   "outputs": [
    {
     "data": {
      "text/plain": [
       "ID                               0\n",
       "LIMIT_BAL                        0\n",
       "SEX                              0\n",
       "EDUCATION                     3036\n",
       "MARRIAGE                         0\n",
       "AGE                              0\n",
       "PAY_0                            0\n",
       "PAY_2                            0\n",
       "PAY_3                            0\n",
       "PAY_4                            0\n",
       "PAY_5                            0\n",
       "PAY_6                            0\n",
       "BILL_AMT1                        0\n",
       "BILL_AMT2                     2543\n",
       "BILL_AMT3                        0\n",
       "BILL_AMT4                        0\n",
       "BILL_AMT5                        0\n",
       "BILL_AMT6                        0\n",
       "PAY_AMT1                         0\n",
       "PAY_AMT2                         0\n",
       "PAY_AMT3                         0\n",
       "PAY_AMT4                         0\n",
       "PAY_AMT5                         0\n",
       "PAY_AMT6                         0\n",
       "default payment next month       0\n",
       "dtype: int64"
      ]
     },
     "execution_count": 3,
     "metadata": {},
     "output_type": "execute_result"
    }
   ],
   "source": [
    "# checking to get a better sense of the dataset\n",
    "df.head()\n",
    "df.columns\n",
    "df.shape\n",
    "df.dtypes\n",
    "df.isnull().sum()"
   ]
  },
  {
   "cell_type": "code",
   "execution_count": 4,
   "metadata": {
    "collapsed": false
   },
   "outputs": [],
   "source": [
    "#change sex indicator from 2 to 0 to make it binary\n",
    "df['SEX'].replace(2, 0, inplace=True)"
   ]
  },
  {
   "cell_type": "code",
   "execution_count": 5,
   "metadata": {
    "collapsed": false
   },
   "outputs": [
    {
     "data": {
      "text/plain": [
       "(26035, 25)"
      ]
     },
     "execution_count": 5,
     "metadata": {},
     "output_type": "execute_result"
    }
   ],
   "source": [
    "#dropped null values for education and bill_amt_2\n",
    "df=df.dropna()\n",
    "df.shape"
   ]
  },
  {
   "cell_type": "code",
   "execution_count": 6,
   "metadata": {
    "collapsed": false
   },
   "outputs": [],
   "source": [
    "# replace values of 0 to 3 for marriage (assuming 0s are neither married nor single)\n",
    "df['MARRIAGE'].replace(0, 3, inplace=True)"
   ]
  },
  {
   "cell_type": "code",
   "execution_count": 7,
   "metadata": {
    "collapsed": false
   },
   "outputs": [
    {
     "data": {
      "text/plain": [
       "2.0    12605\n",
       "1.0     8666\n",
       "3.0     4368\n",
       "5.0      249\n",
       "4.0       95\n",
       "6.0       43\n",
       "0.0        9\n",
       "Name: EDUCATION, dtype: int64"
      ]
     },
     "execution_count": 7,
     "metadata": {},
     "output_type": "execute_result"
    }
   ],
   "source": [
    "df['EDUCATION'].value_counts()"
   ]
  },
  {
   "cell_type": "code",
   "execution_count": 8,
   "metadata": {
    "collapsed": false
   },
   "outputs": [
    {
     "data": {
      "text/plain": [
       "(25734, 25)"
      ]
     },
     "execution_count": 8,
     "metadata": {},
     "output_type": "execute_result"
    }
   ],
   "source": [
    "# drop invalid EDUCATION values (0,5,6) since they are out of the range described in data description\n",
    "df = df[df.EDUCATION != 0]\n",
    "df = df[df.EDUCATION != 5]\n",
    "df = df[df.EDUCATION != 6]\n",
    "df.shape"
   ]
  },
  {
   "cell_type": "code",
   "execution_count": 9,
   "metadata": {
    "collapsed": false
   },
   "outputs": [
    {
     "data": {
      "text/plain": [
       "<matplotlib.axes._subplots.AxesSubplot at 0x43123c8>"
      ]
     },
     "execution_count": 9,
     "metadata": {},
     "output_type": "execute_result"
    },
    {
     "data": {
      "image/png": "[encoded data removed]",
      "text/plain": [
       "<matplotlib.figure.Figure at 0xa887588>"
      ]
     },
     "metadata": {},
     "output_type": "display_data"
    }
   ],
   "source": [
    "# heatmap for features to see the correlations amongst them\n",
    "sns.heatmap(df.corr())"
   ]
  },
  {
   "cell_type": "code",
   "execution_count": 10,
   "metadata": {
    "collapsed": false
   },
   "outputs": [
    {
     "data": {
      "text/plain": [
       "(25734, 28)"
      ]
     },
     "execution_count": 10,
     "metadata": {},
     "output_type": "execute_result"
    }
   ],
   "source": [
    "# dummy variables for categorical data. dropped first to avoid multicollinearity\n",
    "# then delete education and marriage\n",
    "ed_dummies = pd.get_dummies(df.EDUCATION,prefix = 'ED_',drop_first=True)\n",
    "df = pd.concat([df, ed_dummies], axis=1)\n",
    "mar_dummies = pd.get_dummies(df.MARRIAGE,prefix='MAR_',drop_first=True)\n",
    "df = pd.concat([df, mar_dummies], axis=1)\n",
    "del df['EDUCATION']\n",
    "del df['MARRIAGE']\n",
    "df.shape"
   ]
  },
  {
   "cell_type": "code",
   "execution_count": 11,
   "metadata": {
    "collapsed": false
   },
   "outputs": [
    {
     "data": {
      "text/plain": [
       "<matplotlib.text.Text at 0xc3eb320>"
      ]
     },
     "execution_count": 11,
     "metadata": {},
     "output_type": "execute_result"
    },
    {
     "data": {
      "image/png": "[encoded data removed]",
      "text/plain": [
       "<matplotlib.figure.Figure at 0xc471f28>"
      ]
     },
     "metadata": {},
     "output_type": "display_data"
    }
   ],
   "source": [
    "#histogram showing amount of credit given\n",
    "plt.hist(df['LIMIT_BAL'])\n",
    "plt.title(\"Amount of Given Credit Histogram\")\n",
    "plt.xlabel(\"Amount of Given Credit\")\n",
    "plt.ylabel(\"Frequency\")"
   ]
  },
  {
   "cell_type": "code",
   "execution_count": 12,
   "metadata": {
    "collapsed": false
   },
   "outputs": [
    {
     "data": {
      "text/plain": [
       "<matplotlib.text.Text at 0xca894a8>"
      ]
     },
     "execution_count": 12,
     "metadata": {},
     "output_type": "execute_result"
    },
    {
     "data": {
      "image/png": "[encoded data removed]",
      "text/plain": [
       "<matplotlib.figure.Figure at 0xc3eb550>"
      ]
     },
     "metadata": {},
     "output_type": "display_data"
    }
   ],
   "source": [
    "#histogram showing age\n",
    "%matplotlib inline\n",
    "import matplotlib.pyplot as plt\n",
    "plt.hist(df['AGE'])\n",
    "plt.title(\"Age Histogram\")\n",
    "plt.xlabel(\"Age\")\n",
    "plt.ylabel(\"Frequency\")"
   ]
  },
  {
   "cell_type": "code",
   "execution_count": 13,
   "metadata": {
    "collapsed": false
   },
   "outputs": [
    {
     "data": {
      "text/html": [
       "<div>\n",
       "<table border=\"1\" class=\"dataframe\">\n",
       "  <thead>\n",
       "    <tr style=\"text-align: right;\">\n",
       "      <th></th>\n",
       "      <th>ID</th>\n",
       "      <th>LIMIT_BAL</th>\n",
       "      <th>SEX</th>\n",
       "      <th>AGE</th>\n",
       "      <th>PAY_0</th>\n",
       "      <th>PAY_2</th>\n",
       "      <th>PAY_3</th>\n",
       "      <th>PAY_4</th>\n",
       "      <th>PAY_5</th>\n",
       "      <th>PAY_6</th>\n",
       "      <th>...</th>\n",
       "      <th>PAY_AMT3</th>\n",
       "      <th>PAY_AMT4</th>\n",
       "      <th>PAY_AMT5</th>\n",
       "      <th>PAY_AMT6</th>\n",
       "      <th>default payment next month</th>\n",
       "      <th>ED__2.0</th>\n",
       "      <th>ED__3.0</th>\n",
       "      <th>ED__4.0</th>\n",
       "      <th>MAR__2</th>\n",
       "      <th>MAR__3</th>\n",
       "    </tr>\n",
       "  </thead>\n",
       "  <tbody>\n",
       "    <tr>\n",
       "      <th>0</th>\n",
       "      <td>1</td>\n",
       "      <td>-1.089800</td>\n",
       "      <td>0</td>\n",
       "      <td>-1.228147</td>\n",
       "      <td>2</td>\n",
       "      <td>2</td>\n",
       "      <td>-1</td>\n",
       "      <td>-1</td>\n",
       "      <td>-2</td>\n",
       "      <td>-2</td>\n",
       "      <td>...</td>\n",
       "      <td>-0.307427</td>\n",
       "      <td>-0.322843</td>\n",
       "      <td>-0.331476</td>\n",
       "      <td>-0.304757</td>\n",
       "      <td>1</td>\n",
       "      <td>1.0</td>\n",
       "      <td>0.0</td>\n",
       "      <td>0.0</td>\n",
       "      <td>0.0</td>\n",
       "      <td>0.0</td>\n",
       "    </tr>\n",
       "    <tr>\n",
       "      <th>1</th>\n",
       "      <td>2</td>\n",
       "      <td>-0.321662</td>\n",
       "      <td>0</td>\n",
       "      <td>-1.011784</td>\n",
       "      <td>-1</td>\n",
       "      <td>2</td>\n",
       "      <td>0</td>\n",
       "      <td>0</td>\n",
       "      <td>0</td>\n",
       "      <td>2</td>\n",
       "      <td>...</td>\n",
       "      <td>-0.251834</td>\n",
       "      <td>-0.260028</td>\n",
       "      <td>-0.331476</td>\n",
       "      <td>-0.195510</td>\n",
       "      <td>1</td>\n",
       "      <td>1.0</td>\n",
       "      <td>0.0</td>\n",
       "      <td>0.0</td>\n",
       "      <td>1.0</td>\n",
       "      <td>0.0</td>\n",
       "    </tr>\n",
       "    <tr>\n",
       "      <th>2</th>\n",
       "      <td>3</td>\n",
       "      <td>-0.552103</td>\n",
       "      <td>0</td>\n",
       "      <td>-0.146331</td>\n",
       "      <td>0</td>\n",
       "      <td>0</td>\n",
       "      <td>0</td>\n",
       "      <td>0</td>\n",
       "      <td>0</td>\n",
       "      <td>0</td>\n",
       "      <td>...</td>\n",
       "      <td>-0.251834</td>\n",
       "      <td>-0.260028</td>\n",
       "      <td>-0.266828</td>\n",
       "      <td>-0.031640</td>\n",
       "      <td>0</td>\n",
       "      <td>1.0</td>\n",
       "      <td>0.0</td>\n",
       "      <td>0.0</td>\n",
       "      <td>1.0</td>\n",
       "      <td>0.0</td>\n",
       "    </tr>\n",
       "    <tr>\n",
       "      <th>3</th>\n",
       "      <td>4</td>\n",
       "      <td>-0.859358</td>\n",
       "      <td>0</td>\n",
       "      <td>0.178213</td>\n",
       "      <td>0</td>\n",
       "      <td>0</td>\n",
       "      <td>0</td>\n",
       "      <td>0</td>\n",
       "      <td>0</td>\n",
       "      <td>0</td>\n",
       "      <td>...</td>\n",
       "      <td>-0.240715</td>\n",
       "      <td>-0.253747</td>\n",
       "      <td>-0.262367</td>\n",
       "      <td>-0.250133</td>\n",
       "      <td>0</td>\n",
       "      <td>1.0</td>\n",
       "      <td>0.0</td>\n",
       "      <td>0.0</td>\n",
       "      <td>0.0</td>\n",
       "      <td>0.0</td>\n",
       "    </tr>\n",
       "    <tr>\n",
       "      <th>4</th>\n",
       "      <td>5</td>\n",
       "      <td>-0.859358</td>\n",
       "      <td>1</td>\n",
       "      <td>2.341845</td>\n",
       "      <td>-1</td>\n",
       "      <td>0</td>\n",
       "      <td>-1</td>\n",
       "      <td>0</td>\n",
       "      <td>0</td>\n",
       "      <td>0</td>\n",
       "      <td>...</td>\n",
       "      <td>0.248510</td>\n",
       "      <td>0.242488</td>\n",
       "      <td>-0.286933</td>\n",
       "      <td>-0.267668</td>\n",
       "      <td>0</td>\n",
       "      <td>1.0</td>\n",
       "      <td>0.0</td>\n",
       "      <td>0.0</td>\n",
       "      <td>0.0</td>\n",
       "      <td>0.0</td>\n",
       "    </tr>\n",
       "  </tbody>\n",
       "</table>\n",
       "<p>5 rows × 28 columns</p>\n",
       "</div>"
      ],
      "text/plain": [
       "   ID  LIMIT_BAL  SEX       AGE  PAY_0  PAY_2  PAY_3  PAY_4  PAY_5  PAY_6  \\\n",
       "0   1  -1.089800    0 -1.228147      2      2     -1     -1     -2     -2   \n",
       "1   2  -0.321662    0 -1.011784     -1      2      0      0      0      2   \n",
       "2   3  -0.552103    0 -0.146331      0      0      0      0      0      0   \n",
       "3   4  -0.859358    0  0.178213      0      0      0      0      0      0   \n",
       "4   5  -0.859358    1  2.341845     -1      0     -1      0      0      0   \n",
       "\n",
       "    ...    PAY_AMT3  PAY_AMT4  PAY_AMT5  PAY_AMT6  default payment next month  \\\n",
       "0   ...   -0.307427 -0.322843 -0.331476 -0.304757                           1   \n",
       "1   ...   -0.251834 -0.260028 -0.331476 -0.195510                           1   \n",
       "2   ...   -0.251834 -0.260028 -0.266828 -0.031640                           0   \n",
       "3   ...   -0.240715 -0.253747 -0.262367 -0.250133                           0   \n",
       "4   ...    0.248510  0.242488 -0.286933 -0.267668                           0   \n",
       "\n",
       "   ED__2.0  ED__3.0  ED__4.0  MAR__2  MAR__3  \n",
       "0      1.0      0.0      0.0     0.0     0.0  \n",
       "1      1.0      0.0      0.0     1.0     0.0  \n",
       "2      1.0      0.0      0.0     1.0     0.0  \n",
       "3      1.0      0.0      0.0     0.0     0.0  \n",
       "4      1.0      0.0      0.0     0.0     0.0  \n",
       "\n",
       "[5 rows x 28 columns]"
      ]
     },
     "execution_count": 13,
     "metadata": {},
     "output_type": "execute_result"
    }
   ],
   "source": [
    "# standardscaler on features that are large\n",
    "cols_to_scale = ['LIMIT_BAL','AGE','BILL_AMT1','BILL_AMT2','BILL_AMT3','BILL_AMT4','BILL_AMT5','BILL_AMT6',\n",
    "        'PAY_AMT1','PAY_AMT2','PAY_AMT3','PAY_AMT4','PAY_AMT5','PAY_AMT6']\n",
    "df[cols_to_scale] = StandardScaler().fit_transform(df[cols_to_scale])\n",
    "df.head()"
   ]
  },
  {
   "cell_type": "markdown",
   "metadata": {},
   "source": [
    "### Modeling"
   ]
  },
  {
   "cell_type": "code",
   "execution_count": 14,
   "metadata": {
    "collapsed": false
   },
   "outputs": [
    {
     "data": {
      "text/plain": [
       "0    0.778231\n",
       "1    0.221769\n",
       "Name: default payment next month, dtype: float64"
      ]
     },
     "execution_count": 14,
     "metadata": {},
     "output_type": "execute_result"
    }
   ],
   "source": [
    "# baseline\n",
    "df['default payment next month'].value_counts()/len(df['default payment next month'])"
   ]
  },
  {
   "cell_type": "code",
   "execution_count": 15,
   "metadata": {
    "collapsed": false
   },
   "outputs": [
    {
     "data": {
      "text/plain": [
       "0.81970780230027973"
      ]
     },
     "execution_count": 15,
     "metadata": {},
     "output_type": "execute_result"
    }
   ],
   "source": [
    "cols = list(df.columns)\n",
    "cols.remove('default payment next month')\n",
    "cols.remove('ID')\n",
    "X = df[cols]\n",
    "y = df['default payment next month'].values\n",
    "\n",
    "X_train, X_test, y_train, y_test = train_test_split(X, y, random_state=1)\n",
    "\n",
    "#run logistic regression to predict credit default\n",
    "lr = LogisticRegression()\n",
    "lr.fit(X_train,y_train)\n",
    "lr.score(X_test,y_test)"
   ]
  },
  {
   "cell_type": "code",
   "execution_count": 16,
   "metadata": {
    "collapsed": false
   },
   "outputs": [],
   "source": [
    "#get y prediction data to compare with true values\n",
    "y_pred = lr.predict(X_test)"
   ]
  },
  {
   "cell_type": "code",
   "execution_count": 17,
   "metadata": {
    "collapsed": false
   },
   "outputs": [
    {
     "name": "stdout",
     "output_type": "stream",
     "text": [
      "             precision    recall  f1-score   support\n",
      "\n",
      "          0       0.83      0.97      0.89      5002\n",
      "          1       0.72      0.31      0.43      1432\n",
      "\n",
      "avg / total       0.81      0.82      0.79      6434\n",
      "\n"
     ]
    }
   ],
   "source": [
    "#Classification report:\n",
    "print classification_report(y_test, y_pred)"
   ]
  },
  {
   "cell_type": "code",
   "execution_count": 18,
   "metadata": {
    "collapsed": false
   },
   "outputs": [
    {
     "data": {
      "text/html": [
       "<div>\n",
       "<table border=\"1\" class=\"dataframe\">\n",
       "  <thead>\n",
       "    <tr style=\"text-align: right;\">\n",
       "      <th></th>\n",
       "      <th>Predict Default</th>\n",
       "      <th>Predict Not Default</th>\n",
       "    </tr>\n",
       "  </thead>\n",
       "  <tbody>\n",
       "    <tr>\n",
       "      <th>Actual Default</th>\n",
       "      <td>4830</td>\n",
       "      <td>172</td>\n",
       "    </tr>\n",
       "    <tr>\n",
       "      <th>Actual Not Default</th>\n",
       "      <td>988</td>\n",
       "      <td>444</td>\n",
       "    </tr>\n",
       "  </tbody>\n",
       "</table>\n",
       "</div>"
      ],
      "text/plain": [
       "                    Predict Default  Predict Not Default\n",
       "Actual Default                 4830                  172\n",
       "Actual Not Default              988                  444"
      ]
     },
     "execution_count": 18,
     "metadata": {},
     "output_type": "execute_result"
    }
   ],
   "source": [
    "#Confusion Matrix:\n",
    "cm = confusion_matrix(y_test, y_pred)\n",
    "cm = pd.DataFrame(cm, columns=(['Predict Default','Predict Not Default']), index=(['Actual Default','Actual Not Default']))\n",
    "cm"
   ]
  },
  {
   "cell_type": "markdown",
   "metadata": {},
   "source": [
    "### Optimization"
   ]
  },
  {
   "cell_type": "code",
   "execution_count": 19,
   "metadata": {
    "collapsed": false
   },
   "outputs": [
    {
     "name": "stdout",
     "output_type": "stream",
     "text": [
      "{'penalty': 'l1', 'C': 1.0}\n",
      "0.816373056995\n"
     ]
    }
   ],
   "source": [
    "# grid search to optimize parameters\n",
    "Cs = np.logspace(0.0, 5.0, 20)\n",
    "parameters = {\"penalty\": ['l1', 'l2'],'C':Cs}\n",
    "gs = grid_search.GridSearchCV(lr, parameters, scoring='accuracy')\n",
    "gs.fit(X_train, y_train)\n",
    "print gs.best_params_\n",
    "print gs.best_score_"
   ]
  },
  {
   "cell_type": "code",
   "execution_count": 20,
   "metadata": {
    "collapsed": false
   },
   "outputs": [
    {
     "data": {
      "text/html": [
       "<div>\n",
       "<table border=\"1\" class=\"dataframe\">\n",
       "  <thead>\n",
       "    <tr style=\"text-align: right;\">\n",
       "      <th></th>\n",
       "      <th>coeff</th>\n",
       "    </tr>\n",
       "  </thead>\n",
       "  <tbody>\n",
       "    <tr>\n",
       "      <th>ED__4.0</th>\n",
       "      <td>0.706597</td>\n",
       "    </tr>\n",
       "    <tr>\n",
       "      <th>PAY_0</th>\n",
       "      <td>0.617956</td>\n",
       "    </tr>\n",
       "    <tr>\n",
       "      <th>MAR__3</th>\n",
       "      <td>0.270613</td>\n",
       "    </tr>\n",
       "    <tr>\n",
       "      <th>BILL_AMT1</th>\n",
       "      <td>0.228612</td>\n",
       "    </tr>\n",
       "    <tr>\n",
       "      <th>MAR__2</th>\n",
       "      <td>0.206460</td>\n",
       "    </tr>\n",
       "  </tbody>\n",
       "</table>\n",
       "</div>"
      ],
      "text/plain": [
       "              coeff\n",
       "ED__4.0    0.706597\n",
       "PAY_0      0.617956\n",
       "MAR__3     0.270613\n",
       "BILL_AMT1  0.228612\n",
       "MAR__2     0.206460"
      ]
     },
     "execution_count": 20,
     "metadata": {},
     "output_type": "execute_result"
    }
   ],
   "source": [
    "#Surv coeff to examine which features have most impact on y\n",
    "coeffs = pd.DataFrame(gs.best_estimator_.coef_, columns = X_train.columns)\n",
    "coeffs_t = coeffs.transpose()\n",
    "coeffs_t.columns = ['coeff']\n",
    "coeffs_t[abs(coeffs_t['coeff']) > .2].abs().sort_values('coeff', ascending=False)"
   ]
  },
  {
   "cell_type": "code",
   "execution_count": 21,
   "metadata": {
    "collapsed": false
   },
   "outputs": [
    {
     "data": {
      "text/plain": [
       "<matplotlib.axes._subplots.AxesSubplot at 0xc405668>"
      ]
     },
     "execution_count": 21,
     "metadata": {},
     "output_type": "execute_result"
    },
    {
     "data": {
      "image/png": "[encoded data removed]",
      "text/plain": [
       "<matplotlib.figure.Figure at 0x3e49278>"
      ]
     },
     "metadata": {},
     "output_type": "display_data"
    }
   ],
   "source": [
    "#graph to show features with most impact\n",
    "coeffs_t[abs(coeffs_t['coeff']) > .2].abs().sort_values('coeff').plot(kind='bar')"
   ]
  },
  {
   "cell_type": "code",
   "execution_count": 22,
   "metadata": {
    "collapsed": false
   },
   "outputs": [
    {
     "data": {
      "text/plain": [
       "Index([u'PAY_0', u'BILL_AMT1', u'ED__4.0', u'MAR__2', u'MAR__3'], dtype='object')"
      ]
     },
     "execution_count": 22,
     "metadata": {},
     "output_type": "execute_result"
    }
   ],
   "source": [
    "#selecting features that affect y value the most\n",
    "lr_columns = coeffs.columns[(coeffs.abs() > 0.2).values[0]]\n",
    "lr_columns"
   ]
  },
  {
   "cell_type": "code",
   "execution_count": 23,
   "metadata": {
    "collapsed": false
   },
   "outputs": [
    {
     "data": {
      "text/plain": [
       "0.82639104755983839"
      ]
     },
     "execution_count": 23,
     "metadata": {},
     "output_type": "execute_result"
    }
   ],
   "source": [
    "X = df[lr_columns]\n",
    "y = df['default payment next month'].values\n",
    "\n",
    "X_train, X_test, y_train, y_test = train_test_split(X, y, random_state=1)\n",
    "\n",
    "#running logistic regression using only 5 features\n",
    "model = LogisticRegression()\n",
    "model.fit(X_train,y_train)\n",
    "model.score(X_test,y_test)"
   ]
  },
  {
   "cell_type": "code",
   "execution_count": 24,
   "metadata": {
    "collapsed": false
   },
   "outputs": [
    {
     "name": "stdout",
     "output_type": "stream",
     "text": [
      "             precision    recall  f1-score   support\n",
      "\n",
      "          0       0.84      0.96      0.90      5002\n",
      "          1       0.72      0.36      0.48      1432\n",
      "\n",
      "avg / total       0.81      0.83      0.80      6434\n",
      "\n"
     ]
    }
   ],
   "source": [
    "#get y prediction data to compare with true values\n",
    "y_pred = model.predict(X_test)\n",
    "# classification report:\n",
    "print classification_report(y_test, y_pred)"
   ]
  },
  {
   "cell_type": "code",
   "execution_count": 25,
   "metadata": {
    "collapsed": false
   },
   "outputs": [
    {
     "data": {
      "text/html": [
       "<div>\n",
       "<table border=\"1\" class=\"dataframe\">\n",
       "  <thead>\n",
       "    <tr style=\"text-align: right;\">\n",
       "      <th></th>\n",
       "      <th>Predict Default</th>\n",
       "      <th>Predict Not Default</th>\n",
       "    </tr>\n",
       "  </thead>\n",
       "  <tbody>\n",
       "    <tr>\n",
       "      <th>Actual Default</th>\n",
       "      <td>4801</td>\n",
       "      <td>201</td>\n",
       "    </tr>\n",
       "    <tr>\n",
       "      <th>Actual Not Default</th>\n",
       "      <td>916</td>\n",
       "      <td>516</td>\n",
       "    </tr>\n",
       "  </tbody>\n",
       "</table>\n",
       "</div>"
      ],
      "text/plain": [
       "                    Predict Default  Predict Not Default\n",
       "Actual Default                 4801                  201\n",
       "Actual Not Default              916                  516"
      ]
     },
     "execution_count": 25,
     "metadata": {},
     "output_type": "execute_result"
    }
   ],
   "source": [
    "# confusion matrix for the model with 5 features\n",
    "cm = confusion_matrix(y_test, y_pred)\n",
    "cm = pd.DataFrame(cm, columns=(['Predict Default','Predict Not Default']), index=(['Actual Default','Actual Not Default']))\n",
    "cm"
   ]
  },
  {
   "cell_type": "code",
   "execution_count": 26,
   "metadata": {
    "collapsed": false
   },
   "outputs": [
    {
     "data": {
      "text/plain": [
       "0.82949953372707497"
      ]
     },
     "execution_count": 26,
     "metadata": {},
     "output_type": "execute_result"
    }
   ],
   "source": [
    "# recursive feature selection\n",
    "selector = RFECV(lr, scoring='accuracy')\n",
    "model = selector.fit(X_train, y_train)\n",
    "model_df = model.decision_function(X_test)\n",
    "model.score(X_test,y_test)"
   ]
  },
  {
   "cell_type": "code",
   "execution_count": 27,
   "metadata": {
    "collapsed": false
   },
   "outputs": [
    {
     "name": "stdout",
     "output_type": "stream",
     "text": [
      "             precision    recall  f1-score   support\n",
      "\n",
      "          0       0.84      0.96      0.90      5002\n",
      "          1       0.72      0.39      0.50      1432\n",
      "\n",
      "avg / total       0.82      0.83      0.81      6434\n",
      "\n"
     ]
    }
   ],
   "source": [
    "#get y prediction data to compare with true values\n",
    "y_pred = model.predict(X_test)\n",
    "# classification report:\n",
    "print classification_report(y_test, y_pred)"
   ]
  },
  {
   "cell_type": "code",
   "execution_count": 28,
   "metadata": {
    "collapsed": false
   },
   "outputs": [
    {
     "data": {
      "text/html": [
       "<div>\n",
       "<table border=\"1\" class=\"dataframe\">\n",
       "  <thead>\n",
       "    <tr style=\"text-align: right;\">\n",
       "      <th></th>\n",
       "      <th>Predict Default</th>\n",
       "      <th>Predict Not Default</th>\n",
       "    </tr>\n",
       "  </thead>\n",
       "  <tbody>\n",
       "    <tr>\n",
       "      <th>Actual Default</th>\n",
       "      <td>4784</td>\n",
       "      <td>218</td>\n",
       "    </tr>\n",
       "    <tr>\n",
       "      <th>Actual Not Default</th>\n",
       "      <td>879</td>\n",
       "      <td>553</td>\n",
       "    </tr>\n",
       "  </tbody>\n",
       "</table>\n",
       "</div>"
      ],
      "text/plain": [
       "                    Predict Default  Predict Not Default\n",
       "Actual Default                 4784                  218\n",
       "Actual Not Default              879                  553"
      ]
     },
     "execution_count": 28,
     "metadata": {},
     "output_type": "execute_result"
    }
   ],
   "source": [
    "# confusion matrix for rfecv\n",
    "cm = confusion_matrix(y_test, y_pred)\n",
    "cm = pd.DataFrame(cm, columns=(['Predict Default','Predict Not Default']), index=(['Actual Default','Actual Not Default']))\n",
    "cm"
   ]
  },
  {
   "cell_type": "code",
   "execution_count": 29,
   "metadata": {
    "collapsed": true
   },
   "outputs": [],
   "source": [
    "# define function for roc curve\n",
    "def roc_plot(df):\n",
    "    y_score = df\n",
    "    fpr = dict()\n",
    "    tpr = dict()\n",
    "    roc_auc=dict()\n",
    "    fpr[1], tpr[1], _ = roc_curve(y_test, y_score)\n",
    "    roc_auc[1] = auc(fpr[1], tpr[1])\n",
    "    plt.figure(figsize=[9,7])\n",
    "    plt.plot(fpr[1], tpr[1], color='darkorange', lw=2, label='ROC curve (area = %0.2f)' % roc_auc[1])\n",
    "    plt.plot([1,0], [1,0], lw=2, linestyle='--')\n",
    "    plt.xlim([0.0, 1.0])\n",
    "    plt.ylim([0.0, 1.05])\n",
    "    plt.xlabel('False Positive Rate')\n",
    "    plt.ylabel('True Positive Rate')\n",
    "    plt.title('ROC Curve for Credit Default')\n",
    "    plt.legend(loc='lower right')\n",
    "    plt.show()"
   ]
  },
  {
   "cell_type": "code",
   "execution_count": 30,
   "metadata": {
    "collapsed": false
   },
   "outputs": [
    {
     "data": {
      "image/png": "[encoded data removed]",
      "text/plain": [
       "<matplotlib.figure.Figure at 0xca89240>"
      ]
     },
     "metadata": {},
     "output_type": "display_data"
    }
   ],
   "source": [
    "# roc curve for the final model\n",
    "roc_plot(model_df)"
   ]
  }
 ],
 "metadata": {
  "kernelspec": {
   "display_name": "Python 2",
   "language": "python",
   "name": "python2"
  },
  "language_info": {
   "codemirror_mode": {
    "name": "ipython",
    "version": 2
   },
   "file_extension": ".py",
   "mimetype": "text/x-python",
   "name": "python",
   "nbconvert_exporter": "python",
   "pygments_lexer": "ipython2",
   "version": "2.7.11"
  }
 },
 "nbformat": 4,
 "nbformat_minor": 0
}
